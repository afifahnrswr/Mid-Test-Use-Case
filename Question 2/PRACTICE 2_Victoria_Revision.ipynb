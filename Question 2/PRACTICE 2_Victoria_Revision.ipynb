{
 "cells": [
  {
   "cell_type": "markdown",
   "metadata": {},
   "source": [
    "# PRACTICE 2\n",
    "[Dataset](https://drive.google.com/open?id=1j8TdXtCnEQlqn2esDbiuPay01pDooS-w) : Apartment Price in Victoria. \n",
    "\n",
    "**Latar Belakang** : Dataset menyediakan area hidup dan status konservasi. Terdapat 218 pengamatan dan 16 variabel.\n",
    "\n",
    "**Objektif** : Dengan kasus : Tony yang berprofesi sebagai broker ingin meramalkan harga apartemen di Victoria berdasarkan lingkungan ruang keluarga dan status konservasi apartemen. Tentukan model terbaik untuk memprediksi dan mendefinisikan kembali variabel konservasi baru dalam 3 level : <br> \n",
    "- Level A = 1A\n",
    "- Level B = 2A\n",
    "- Level C = 2B dan 3A\n",
    "\n",
    "Berdasarkan kasus maka dapat menentukan model terbaik dengan menggunakan regresi.\n",
    "****\n"
   ]
  },
  {
   "cell_type": "markdown",
   "metadata": {},
   "source": [
    "The steps of this project that we will work through are as follows :\n",
    "1. **Load Data** : *Import Dataset*\n",
    "2. **EDA** : *Create summary of the dataset, with python function. (mean, median, modus, max, min, range)*\n",
    "3. **Data Visualization** : *Create any kind suitable plot of dataset, it will provide a lot of insight into the problem*\n",
    "4. **Variable Selection** : *Choose the variable and its reason*\n",
    "5. **Modelling (Regression)** : *Create models using Regression*\n",
    "6. **Accuracy of Error** : *Calculate the Error using the helper function from the library, from dataset only*"
   ]
  },
  {
   "cell_type": "markdown",
   "metadata": {},
   "source": [
    "# 1. Load Data"
   ]
  },
  {
   "cell_type": "code",
   "execution_count": 1,
   "metadata": {},
   "outputs": [],
   "source": [
    "# Package Load Data\n",
    "import pandas as pd\n",
    "import numpy as np"
   ]
  },
  {
   "cell_type": "code",
   "execution_count": 2,
   "metadata": {},
   "outputs": [
    {
     "data": {
      "text/html": [
       "<div>\n",
       "<style scoped>\n",
       "    .dataframe tbody tr th:only-of-type {\n",
       "        vertical-align: middle;\n",
       "    }\n",
       "\n",
       "    .dataframe tbody tr th {\n",
       "        vertical-align: top;\n",
       "    }\n",
       "\n",
       "    .dataframe thead th {\n",
       "        text-align: right;\n",
       "    }\n",
       "</style>\n",
       "<table border=\"1\" class=\"dataframe\">\n",
       "  <thead>\n",
       "    <tr style=\"text-align: right;\">\n",
       "      <th></th>\n",
       "      <th>row.labels</th>\n",
       "      <th>totalprice</th>\n",
       "      <th>area</th>\n",
       "      <th>zone</th>\n",
       "      <th>category</th>\n",
       "      <th>age</th>\n",
       "      <th>floor</th>\n",
       "      <th>rooms</th>\n",
       "      <th>out</th>\n",
       "      <th>conservation</th>\n",
       "      <th>toilets</th>\n",
       "      <th>garage</th>\n",
       "      <th>elevator</th>\n",
       "      <th>streetcategory</th>\n",
       "      <th>heating</th>\n",
       "      <th>tras</th>\n",
       "    </tr>\n",
       "  </thead>\n",
       "  <tbody>\n",
       "    <tr>\n",
       "      <th>0</th>\n",
       "      <td>1</td>\n",
       "      <td>228000</td>\n",
       "      <td>7530999756</td>\n",
       "      <td>Z45</td>\n",
       "      <td>4B</td>\n",
       "      <td>33</td>\n",
       "      <td>3</td>\n",
       "      <td>5</td>\n",
       "      <td>E100</td>\n",
       "      <td>2B</td>\n",
       "      <td>1</td>\n",
       "      <td>0</td>\n",
       "      <td>1</td>\n",
       "      <td>S3</td>\n",
       "      <td>3A</td>\n",
       "      <td>0</td>\n",
       "    </tr>\n",
       "    <tr>\n",
       "      <th>1</th>\n",
       "      <td>2</td>\n",
       "      <td>409000</td>\n",
       "      <td>1006500015</td>\n",
       "      <td>Z31</td>\n",
       "      <td>3B</td>\n",
       "      <td>5</td>\n",
       "      <td>7</td>\n",
       "      <td>5</td>\n",
       "      <td>E50</td>\n",
       "      <td>1A</td>\n",
       "      <td>2</td>\n",
       "      <td>1</td>\n",
       "      <td>1</td>\n",
       "      <td>S5</td>\n",
       "      <td>4A</td>\n",
       "      <td>1</td>\n",
       "    </tr>\n",
       "    <tr>\n",
       "      <th>2</th>\n",
       "      <td>3</td>\n",
       "      <td>200000</td>\n",
       "      <td>8887000275</td>\n",
       "      <td>Z52</td>\n",
       "      <td>3A</td>\n",
       "      <td>14</td>\n",
       "      <td>8</td>\n",
       "      <td>5</td>\n",
       "      <td>E50</td>\n",
       "      <td>1A</td>\n",
       "      <td>2</td>\n",
       "      <td>0</td>\n",
       "      <td>1</td>\n",
       "      <td>S2</td>\n",
       "      <td>3A</td>\n",
       "      <td>0</td>\n",
       "    </tr>\n",
       "    <tr>\n",
       "      <th>3</th>\n",
       "      <td>4</td>\n",
       "      <td>180000</td>\n",
       "      <td>6261000061</td>\n",
       "      <td>Z62</td>\n",
       "      <td>4A</td>\n",
       "      <td>41</td>\n",
       "      <td>3</td>\n",
       "      <td>4</td>\n",
       "      <td>E50</td>\n",
       "      <td>2A</td>\n",
       "      <td>1</td>\n",
       "      <td>0</td>\n",
       "      <td>0</td>\n",
       "      <td>S3</td>\n",
       "      <td>1A</td>\n",
       "      <td>0</td>\n",
       "    </tr>\n",
       "    <tr>\n",
       "      <th>4</th>\n",
       "      <td>5</td>\n",
       "      <td>443600</td>\n",
       "      <td>1461499939</td>\n",
       "      <td>Z31</td>\n",
       "      <td>3A</td>\n",
       "      <td>22</td>\n",
       "      <td>6</td>\n",
       "      <td>7</td>\n",
       "      <td>E100</td>\n",
       "      <td>1A</td>\n",
       "      <td>2</td>\n",
       "      <td>0</td>\n",
       "      <td>1</td>\n",
       "      <td>S4</td>\n",
       "      <td>4A</td>\n",
       "      <td>1</td>\n",
       "    </tr>\n",
       "  </tbody>\n",
       "</table>\n",
       "</div>"
      ],
      "text/plain": [
       "   row.labels totalprice        area zone category  age  floor  rooms   out  \\\n",
       "0           1     228000  7530999756  Z45       4B   33      3      5  E100   \n",
       "1           2     409000  1006500015  Z31       3B    5      7      5   E50   \n",
       "2           3     200000  8887000275  Z52       3A   14      8      5   E50   \n",
       "3           4     180000  6261000061  Z62       4A   41      3      4   E50   \n",
       "4           5     443600  1461499939  Z31       3A   22      6      7  E100   \n",
       "\n",
       "  conservation  toilets  garage  elevator streetcategory heating  tras  \n",
       "0           2B        1       0         1             S3      3A     0  \n",
       "1           1A        2       1         1             S5      4A     1  \n",
       "2           1A        2       0         1             S2      3A     0  \n",
       "3           2A        1       0         0             S3      1A     0  \n",
       "4           1A        2       0         1             S4      4A     1  "
      ]
     },
     "execution_count": 2,
     "metadata": {},
     "output_type": "execute_result"
    }
   ],
   "source": [
    "df = pd.read_csv('victoria.csv')\n",
    "df.head()"
   ]
  },
  {
   "cell_type": "code",
   "execution_count": 8,
   "metadata": {},
   "outputs": [
    {
     "data": {
      "text/html": [
       "<div>\n",
       "<style scoped>\n",
       "    .dataframe tbody tr th:only-of-type {\n",
       "        vertical-align: middle;\n",
       "    }\n",
       "\n",
       "    .dataframe tbody tr th {\n",
       "        vertical-align: top;\n",
       "    }\n",
       "\n",
       "    .dataframe thead th {\n",
       "        text-align: right;\n",
       "    }\n",
       "</style>\n",
       "<table border=\"1\" class=\"dataframe\">\n",
       "  <thead>\n",
       "    <tr style=\"text-align: right;\">\n",
       "      <th></th>\n",
       "      <th>row.labels</th>\n",
       "      <th>totalprice</th>\n",
       "      <th>area</th>\n",
       "      <th>zone</th>\n",
       "      <th>category</th>\n",
       "      <th>age</th>\n",
       "      <th>floor</th>\n",
       "      <th>rooms</th>\n",
       "      <th>out</th>\n",
       "      <th>conservation</th>\n",
       "      <th>toilets</th>\n",
       "      <th>garage</th>\n",
       "      <th>elevator</th>\n",
       "      <th>streetcategory</th>\n",
       "      <th>heating</th>\n",
       "      <th>tras</th>\n",
       "    </tr>\n",
       "  </thead>\n",
       "  <tbody>\n",
       "    <tr>\n",
       "      <th>0</th>\n",
       "      <td>1</td>\n",
       "      <td>228000</td>\n",
       "      <td>7530999756</td>\n",
       "      <td>Z45</td>\n",
       "      <td>4B</td>\n",
       "      <td>33</td>\n",
       "      <td>3</td>\n",
       "      <td>5</td>\n",
       "      <td>E100</td>\n",
       "      <td>2B</td>\n",
       "      <td>1</td>\n",
       "      <td>0</td>\n",
       "      <td>1</td>\n",
       "      <td>S3</td>\n",
       "      <td>3A</td>\n",
       "      <td>0</td>\n",
       "    </tr>\n",
       "    <tr>\n",
       "      <th>1</th>\n",
       "      <td>2</td>\n",
       "      <td>409000</td>\n",
       "      <td>1006500015</td>\n",
       "      <td>Z31</td>\n",
       "      <td>3B</td>\n",
       "      <td>5</td>\n",
       "      <td>7</td>\n",
       "      <td>5</td>\n",
       "      <td>E50</td>\n",
       "      <td>1A</td>\n",
       "      <td>2</td>\n",
       "      <td>1</td>\n",
       "      <td>1</td>\n",
       "      <td>S5</td>\n",
       "      <td>4A</td>\n",
       "      <td>1</td>\n",
       "    </tr>\n",
       "    <tr>\n",
       "      <th>2</th>\n",
       "      <td>3</td>\n",
       "      <td>200000</td>\n",
       "      <td>8887000275</td>\n",
       "      <td>Z52</td>\n",
       "      <td>3A</td>\n",
       "      <td>14</td>\n",
       "      <td>8</td>\n",
       "      <td>5</td>\n",
       "      <td>E50</td>\n",
       "      <td>1A</td>\n",
       "      <td>2</td>\n",
       "      <td>0</td>\n",
       "      <td>1</td>\n",
       "      <td>S2</td>\n",
       "      <td>3A</td>\n",
       "      <td>0</td>\n",
       "    </tr>\n",
       "    <tr>\n",
       "      <th>3</th>\n",
       "      <td>4</td>\n",
       "      <td>180000</td>\n",
       "      <td>6261000061</td>\n",
       "      <td>Z62</td>\n",
       "      <td>4A</td>\n",
       "      <td>41</td>\n",
       "      <td>3</td>\n",
       "      <td>4</td>\n",
       "      <td>E50</td>\n",
       "      <td>2A</td>\n",
       "      <td>1</td>\n",
       "      <td>0</td>\n",
       "      <td>0</td>\n",
       "      <td>S3</td>\n",
       "      <td>1A</td>\n",
       "      <td>0</td>\n",
       "    </tr>\n",
       "    <tr>\n",
       "      <th>4</th>\n",
       "      <td>5</td>\n",
       "      <td>443600</td>\n",
       "      <td>1461499939</td>\n",
       "      <td>Z31</td>\n",
       "      <td>3A</td>\n",
       "      <td>22</td>\n",
       "      <td>6</td>\n",
       "      <td>7</td>\n",
       "      <td>E100</td>\n",
       "      <td>1A</td>\n",
       "      <td>2</td>\n",
       "      <td>0</td>\n",
       "      <td>1</td>\n",
       "      <td>S4</td>\n",
       "      <td>4A</td>\n",
       "      <td>1</td>\n",
       "    </tr>\n",
       "  </tbody>\n",
       "</table>\n",
       "</div>"
      ],
      "text/plain": [
       "   row.labels totalprice        area zone category  age  floor  rooms   out  \\\n",
       "0           1     228000  7530999756  Z45       4B   33      3      5  E100   \n",
       "1           2     409000  1006500015  Z31       3B    5      7      5   E50   \n",
       "2           3     200000  8887000275  Z52       3A   14      8      5   E50   \n",
       "3           4     180000  6261000061  Z62       4A   41      3      4   E50   \n",
       "4           5     443600  1461499939  Z31       3A   22      6      7  E100   \n",
       "\n",
       "  conservation  toilets  garage  elevator streetcategory heating  tras  \n",
       "0           2B        1       0         1             S3      3A     0  \n",
       "1           1A        2       1         1             S5      4A     1  \n",
       "2           1A        2       0         1             S2      3A     0  \n",
       "3           2A        1       0         0             S3      1A     0  \n",
       "4           1A        2       0         1             S4      4A     1  "
      ]
     },
     "execution_count": 8,
     "metadata": {},
     "output_type": "execute_result"
    }
   ],
   "source": [
    "df.head()"
   ]
  },
  {
   "cell_type": "code",
   "execution_count": 11,
   "metadata": {},
   "outputs": [
    {
     "data": {
      "text/plain": [
       "(218, 16)"
      ]
     },
     "execution_count": 11,
     "metadata": {},
     "output_type": "execute_result"
    }
   ],
   "source": [
    "# Dimensi Data\n",
    "df.shape"
   ]
  },
  {
   "cell_type": "markdown",
   "metadata": {},
   "source": [
    "#### Mempersiapkan Data"
   ]
  },
  {
   "cell_type": "code",
   "execution_count": 18,
   "metadata": {},
   "outputs": [
    {
     "data": {
      "text/plain": [
       "row.labels         int64\n",
       "totalprice         int64\n",
       "area               int64\n",
       "zone              object\n",
       "category          object\n",
       "age                int64\n",
       "floor              int64\n",
       "rooms              int64\n",
       "out               object\n",
       "conservation      object\n",
       "toilets            int64\n",
       "garage             int64\n",
       "elevator           int64\n",
       "streetcategory    object\n",
       "heating           object\n",
       "tras               int64\n",
       "dtype: object"
      ]
     },
     "execution_count": 18,
     "metadata": {},
     "output_type": "execute_result"
    }
   ],
   "source": [
    "# Tipe Data\n",
    "df.dtypes"
   ]
  },
  {
   "cell_type": "markdown",
   "metadata": {},
   "source": [
    "> Dikarenakan terdapat tipe data yang tidak sesuai dengan datanya, maka dapat dilakukan singkronisasi data agar analsis yang diperoleh tidak bias."
   ]
  },
  {
   "cell_type": "code",
   "execution_count": 19,
   "metadata": {},
   "outputs": [],
   "source": [
    "# Cleansing Data\n",
    "df['totalprice'] = df['totalprice'].replace(r'[,]','', regex=True)\n",
    "df['area'] = df['area'].replace(r'[,]','', regex=True)"
   ]
  },
  {
   "cell_type": "code",
   "execution_count": 31,
   "metadata": {},
   "outputs": [],
   "source": [
    "# Convert Data Numeric\n",
    "df['totalprice'] = pd.to_numeric(df['totalprice'])\n",
    "df['area'] = pd.to_numeric(df['area'])"
   ]
  },
  {
   "cell_type": "code",
   "execution_count": 33,
   "metadata": {},
   "outputs": [],
   "source": [
    "# Menghapus Kolom yang Tidak Digunakan\n",
    "df=df.drop(['row.labels'],axis=1)"
   ]
  },
  {
   "cell_type": "markdown",
   "metadata": {},
   "source": [
    "# 2. EDA\n",
    "*Exploratory Data Analysis* digunakan untuk dapat mengetahui karakteristik awal data yang akan digunakan. EDA yang akan dilakukan yaitu dengan menggunakan statistika deskriptif dan dengan menggunakan visualisasi data (Bagian *Data Visualization*)"
   ]
  },
  {
   "cell_type": "code",
   "execution_count": 34,
   "metadata": {},
   "outputs": [
    {
     "data": {
      "text/html": [
       "<div>\n",
       "<style scoped>\n",
       "    .dataframe tbody tr th:only-of-type {\n",
       "        vertical-align: middle;\n",
       "    }\n",
       "\n",
       "    .dataframe tbody tr th {\n",
       "        vertical-align: top;\n",
       "    }\n",
       "\n",
       "    .dataframe thead th {\n",
       "        text-align: right;\n",
       "    }\n",
       "</style>\n",
       "<table border=\"1\" class=\"dataframe\">\n",
       "  <thead>\n",
       "    <tr style=\"text-align: right;\">\n",
       "      <th></th>\n",
       "      <th>totalprice</th>\n",
       "      <th>area</th>\n",
       "      <th>age</th>\n",
       "      <th>floor</th>\n",
       "      <th>rooms</th>\n",
       "      <th>toilets</th>\n",
       "      <th>garage</th>\n",
       "      <th>elevator</th>\n",
       "      <th>tras</th>\n",
       "    </tr>\n",
       "  </thead>\n",
       "  <tbody>\n",
       "    <tr>\n",
       "      <th>count</th>\n",
       "      <td>2.180000e+02</td>\n",
       "      <td>2.180000e+02</td>\n",
       "      <td>218.000000</td>\n",
       "      <td>218.000000</td>\n",
       "      <td>218.000000</td>\n",
       "      <td>218.000000</td>\n",
       "      <td>218.000000</td>\n",
       "      <td>218.000000</td>\n",
       "      <td>218.000000</td>\n",
       "    </tr>\n",
       "    <tr>\n",
       "      <th>mean</th>\n",
       "      <td>2.885435e+05</td>\n",
       "      <td>5.718657e+09</td>\n",
       "      <td>19.899083</td>\n",
       "      <td>4.440367</td>\n",
       "      <td>4.853211</td>\n",
       "      <td>1.467890</td>\n",
       "      <td>0.243119</td>\n",
       "      <td>0.798165</td>\n",
       "      <td>0.807339</td>\n",
       "    </tr>\n",
       "    <tr>\n",
       "      <th>std</th>\n",
       "      <td>1.289723e+05</td>\n",
       "      <td>3.455007e+09</td>\n",
       "      <td>14.595590</td>\n",
       "      <td>2.126988</td>\n",
       "      <td>0.634285</td>\n",
       "      <td>0.500116</td>\n",
       "      <td>0.450881</td>\n",
       "      <td>0.402293</td>\n",
       "      <td>0.406787</td>\n",
       "    </tr>\n",
       "    <tr>\n",
       "      <th>min</th>\n",
       "      <td>1.550000e+05</td>\n",
       "      <td>5.300000e+01</td>\n",
       "      <td>1.000000</td>\n",
       "      <td>1.000000</td>\n",
       "      <td>3.000000</td>\n",
       "      <td>1.000000</td>\n",
       "      <td>0.000000</td>\n",
       "      <td>0.000000</td>\n",
       "      <td>0.000000</td>\n",
       "    </tr>\n",
       "    <tr>\n",
       "      <th>25%</th>\n",
       "      <td>2.300000e+05</td>\n",
       "      <td>1.187250e+09</td>\n",
       "      <td>11.000000</td>\n",
       "      <td>3.000000</td>\n",
       "      <td>5.000000</td>\n",
       "      <td>1.000000</td>\n",
       "      <td>0.000000</td>\n",
       "      <td>1.000000</td>\n",
       "      <td>1.000000</td>\n",
       "    </tr>\n",
       "    <tr>\n",
       "      <th>50%</th>\n",
       "      <td>2.700000e+05</td>\n",
       "      <td>7.118500e+09</td>\n",
       "      <td>16.000000</td>\n",
       "      <td>4.000000</td>\n",
       "      <td>5.000000</td>\n",
       "      <td>1.000000</td>\n",
       "      <td>0.000000</td>\n",
       "      <td>1.000000</td>\n",
       "      <td>1.000000</td>\n",
       "    </tr>\n",
       "    <tr>\n",
       "      <th>75%</th>\n",
       "      <td>3.297500e+05</td>\n",
       "      <td>8.542750e+09</td>\n",
       "      <td>24.000000</td>\n",
       "      <td>5.000000</td>\n",
       "      <td>5.000000</td>\n",
       "      <td>2.000000</td>\n",
       "      <td>0.000000</td>\n",
       "      <td>1.000000</td>\n",
       "      <td>1.000000</td>\n",
       "    </tr>\n",
       "    <tr>\n",
       "      <th>max</th>\n",
       "      <td>1.889822e+06</td>\n",
       "      <td>9.992000e+09</td>\n",
       "      <td>118.000000</td>\n",
       "      <td>12.000000</td>\n",
       "      <td>7.000000</td>\n",
       "      <td>2.000000</td>\n",
       "      <td>2.000000</td>\n",
       "      <td>1.000000</td>\n",
       "      <td>2.000000</td>\n",
       "    </tr>\n",
       "  </tbody>\n",
       "</table>\n",
       "</div>"
      ],
      "text/plain": [
       "         totalprice          area         age       floor       rooms  \\\n",
       "count  2.180000e+02  2.180000e+02  218.000000  218.000000  218.000000   \n",
       "mean   2.885435e+05  5.718657e+09   19.899083    4.440367    4.853211   \n",
       "std    1.289723e+05  3.455007e+09   14.595590    2.126988    0.634285   \n",
       "min    1.550000e+05  5.300000e+01    1.000000    1.000000    3.000000   \n",
       "25%    2.300000e+05  1.187250e+09   11.000000    3.000000    5.000000   \n",
       "50%    2.700000e+05  7.118500e+09   16.000000    4.000000    5.000000   \n",
       "75%    3.297500e+05  8.542750e+09   24.000000    5.000000    5.000000   \n",
       "max    1.889822e+06  9.992000e+09  118.000000   12.000000    7.000000   \n",
       "\n",
       "          toilets      garage    elevator        tras  \n",
       "count  218.000000  218.000000  218.000000  218.000000  \n",
       "mean     1.467890    0.243119    0.798165    0.807339  \n",
       "std      0.500116    0.450881    0.402293    0.406787  \n",
       "min      1.000000    0.000000    0.000000    0.000000  \n",
       "25%      1.000000    0.000000    1.000000    1.000000  \n",
       "50%      1.000000    0.000000    1.000000    1.000000  \n",
       "75%      2.000000    0.000000    1.000000    1.000000  \n",
       "max      2.000000    2.000000    1.000000    2.000000  "
      ]
     },
     "execution_count": 34,
     "metadata": {},
     "output_type": "execute_result"
    }
   ],
   "source": [
    "df.describe()"
   ]
  },
  {
   "cell_type": "markdown",
   "metadata": {},
   "source": [
    "> Menggunakan EDA maka dapat diketahui karakteristik dari data yang akan dianalisis.\n",
    "Berdasarkan Statistika Deskriptif pada 218 data tersebut, maka dapat diketahui bahwa :\n",
    "1. *Harga Apartemen* di Victoria yang tertinggi yaitu 1.889.822 dan yang terendah yaitu sebesar 155.000. Sedangkan rata-rata harga apartemen di Victoria adalah sebesar 288.543.\n",
    "2. *Area Apartemen* di Victoria yang terluas yaitu 9.92 sedangkan yang terendah yaitu 5.3 dengan rata-rata luas apartemen yaitu sebesar 5.7.\n",
    "3. *Usia Apartemen* menunjukkan usia tertinggi yaitu 118 tahun dan yang terkecil yaitu 1 tahun dengan rata-rata 19 tahun.\n",
    "4. *Lantai Apartemen* yang paling banyak ditempati yaitu lantai 7 dengan yang paling sedikit lantai yang ditempati yaitu lantai 1, dengan rata-rata lantai yang ditempati yaitu lantai 4.\n",
    "5. *Jumlah Ruangan* di apartemen menunjukkan jumlah ruangan terbanyak yaitu 7 ruangan dengan *Jumlah Toilet* terbanyak yaitu 2. Sedangkan Jumlah Ruangan paling sedikit yaitu 3 dengan jumlah toilet paling sedikit adalah 1."
   ]
  },
  {
   "cell_type": "markdown",
   "metadata": {},
   "source": [
    "# 3. Data Visualization"
   ]
  },
  {
   "cell_type": "code",
   "execution_count": 24,
   "metadata": {},
   "outputs": [],
   "source": [
    "# Package Plot\n",
    "import matplotlib.pyplot as plt\n",
    "import seaborn as sns"
   ]
  },
  {
   "cell_type": "code",
   "execution_count": 27,
   "metadata": {},
   "outputs": [
    {
     "data": {
      "image/png": "[encoded data removed]",
      "text/plain": [
       "<matplotlib.figure.Figure at 0x121a987b5c0>"
      ]
     },
     "metadata": {},
     "output_type": "display_data"
    }
   ],
   "source": [
    "# Univariate Analysis Price\n",
    "plt.figure(figsize=(21,5))\n",
    "sns.distplot(df['totalprice'])\n",
    "plt.show()"
   ]
  },
  {
   "cell_type": "markdown",
   "metadata": {},
   "source": [
    "> Dikarenakan akan meramalkan harga apartemen di Victoria berdasarkan lingkungan ruang keluarga dan status konservasi apartemen, maka visualisasi data yang perlu dilakukan yaitu mengetahui distribusi data harga apartemen terlebih dahulu. Berdasarkan Density Plot maka dapat diketahui bahwa harga aprtemen memiliki distribusi dengan membentuk pola \"Right Skewness\". Hal ini menunjukkan bahwa harga apartemen memusat. Jika dilihat berdasarkan plot, dapat diketahui harga memusat pada harga 250.000."
   ]
  },
  {
   "cell_type": "markdown",
   "metadata": {},
   "source": [
    "Untuk mengetahui hubungan harga apartemen dengan variabel lainnya maka dapat menggunakan Nilai Korelasi dan *Correlation Plot* sebagai berikut."
   ]
  },
  {
   "cell_type": "code",
   "execution_count": 35,
   "metadata": {},
   "outputs": [
    {
     "data": {
      "text/html": [
       "<div>\n",
       "<style scoped>\n",
       "    .dataframe tbody tr th:only-of-type {\n",
       "        vertical-align: middle;\n",
       "    }\n",
       "\n",
       "    .dataframe tbody tr th {\n",
       "        vertical-align: top;\n",
       "    }\n",
       "\n",
       "    .dataframe thead th {\n",
       "        text-align: right;\n",
       "    }\n",
       "</style>\n",
       "<table border=\"1\" class=\"dataframe\">\n",
       "  <thead>\n",
       "    <tr style=\"text-align: right;\">\n",
       "      <th></th>\n",
       "      <th>totalprice</th>\n",
       "      <th>area</th>\n",
       "      <th>age</th>\n",
       "      <th>floor</th>\n",
       "      <th>rooms</th>\n",
       "      <th>toilets</th>\n",
       "      <th>garage</th>\n",
       "      <th>elevator</th>\n",
       "      <th>tras</th>\n",
       "    </tr>\n",
       "  </thead>\n",
       "  <tbody>\n",
       "    <tr>\n",
       "      <th>totalprice</th>\n",
       "      <td>1.000000</td>\n",
       "      <td>-0.189643</td>\n",
       "      <td>-0.075187</td>\n",
       "      <td>0.003118</td>\n",
       "      <td>0.200678</td>\n",
       "      <td>0.312584</td>\n",
       "      <td>0.248644</td>\n",
       "      <td>0.153959</td>\n",
       "      <td>0.172438</td>\n",
       "    </tr>\n",
       "    <tr>\n",
       "      <th>area</th>\n",
       "      <td>-0.189643</td>\n",
       "      <td>1.000000</td>\n",
       "      <td>-0.140286</td>\n",
       "      <td>-0.017649</td>\n",
       "      <td>-0.275234</td>\n",
       "      <td>-0.275006</td>\n",
       "      <td>-0.177064</td>\n",
       "      <td>-0.000032</td>\n",
       "      <td>0.003843</td>\n",
       "    </tr>\n",
       "    <tr>\n",
       "      <th>age</th>\n",
       "      <td>-0.075187</td>\n",
       "      <td>-0.140286</td>\n",
       "      <td>1.000000</td>\n",
       "      <td>-0.081243</td>\n",
       "      <td>-0.082745</td>\n",
       "      <td>-0.280751</td>\n",
       "      <td>-0.214034</td>\n",
       "      <td>-0.409242</td>\n",
       "      <td>-0.266408</td>\n",
       "    </tr>\n",
       "    <tr>\n",
       "      <th>floor</th>\n",
       "      <td>0.003118</td>\n",
       "      <td>-0.017649</td>\n",
       "      <td>-0.081243</td>\n",
       "      <td>1.000000</td>\n",
       "      <td>0.130113</td>\n",
       "      <td>0.104329</td>\n",
       "      <td>-0.030462</td>\n",
       "      <td>0.201292</td>\n",
       "      <td>-0.119861</td>\n",
       "    </tr>\n",
       "    <tr>\n",
       "      <th>rooms</th>\n",
       "      <td>0.200678</td>\n",
       "      <td>-0.275234</td>\n",
       "      <td>-0.082745</td>\n",
       "      <td>0.130113</td>\n",
       "      <td>1.000000</td>\n",
       "      <td>0.420892</td>\n",
       "      <td>0.205930</td>\n",
       "      <td>0.352912</td>\n",
       "      <td>0.032771</td>\n",
       "    </tr>\n",
       "    <tr>\n",
       "      <th>toilets</th>\n",
       "      <td>0.312584</td>\n",
       "      <td>-0.275006</td>\n",
       "      <td>-0.280751</td>\n",
       "      <td>0.104329</td>\n",
       "      <td>0.420892</td>\n",
       "      <td>1.000000</td>\n",
       "      <td>0.453729</td>\n",
       "      <td>0.448640</td>\n",
       "      <td>0.218621</td>\n",
       "    </tr>\n",
       "    <tr>\n",
       "      <th>garage</th>\n",
       "      <td>0.248644</td>\n",
       "      <td>-0.177064</td>\n",
       "      <td>-0.214034</td>\n",
       "      <td>-0.030462</td>\n",
       "      <td>0.205930</td>\n",
       "      <td>0.453729</td>\n",
       "      <td>1.000000</td>\n",
       "      <td>0.271774</td>\n",
       "      <td>0.156053</td>\n",
       "    </tr>\n",
       "    <tr>\n",
       "      <th>elevator</th>\n",
       "      <td>0.153959</td>\n",
       "      <td>-0.000032</td>\n",
       "      <td>-0.409242</td>\n",
       "      <td>0.201292</td>\n",
       "      <td>0.352912</td>\n",
       "      <td>0.448640</td>\n",
       "      <td>0.271774</td>\n",
       "      <td>1.000000</td>\n",
       "      <td>0.211845</td>\n",
       "    </tr>\n",
       "    <tr>\n",
       "      <th>tras</th>\n",
       "      <td>0.172438</td>\n",
       "      <td>0.003843</td>\n",
       "      <td>-0.266408</td>\n",
       "      <td>-0.119861</td>\n",
       "      <td>0.032771</td>\n",
       "      <td>0.218621</td>\n",
       "      <td>0.156053</td>\n",
       "      <td>0.211845</td>\n",
       "      <td>1.000000</td>\n",
       "    </tr>\n",
       "  </tbody>\n",
       "</table>\n",
       "</div>"
      ],
      "text/plain": [
       "            totalprice      area       age     floor     rooms   toilets  \\\n",
       "totalprice    1.000000 -0.189643 -0.075187  0.003118  0.200678  0.312584   \n",
       "area         -0.189643  1.000000 -0.140286 -0.017649 -0.275234 -0.275006   \n",
       "age          -0.075187 -0.140286  1.000000 -0.081243 -0.082745 -0.280751   \n",
       "floor         0.003118 -0.017649 -0.081243  1.000000  0.130113  0.104329   \n",
       "rooms         0.200678 -0.275234 -0.082745  0.130113  1.000000  0.420892   \n",
       "toilets       0.312584 -0.275006 -0.280751  0.104329  0.420892  1.000000   \n",
       "garage        0.248644 -0.177064 -0.214034 -0.030462  0.205930  0.453729   \n",
       "elevator      0.153959 -0.000032 -0.409242  0.201292  0.352912  0.448640   \n",
       "tras          0.172438  0.003843 -0.266408 -0.119861  0.032771  0.218621   \n",
       "\n",
       "              garage  elevator      tras  \n",
       "totalprice  0.248644  0.153959  0.172438  \n",
       "area       -0.177064 -0.000032  0.003843  \n",
       "age        -0.214034 -0.409242 -0.266408  \n",
       "floor      -0.030462  0.201292 -0.119861  \n",
       "rooms       0.205930  0.352912  0.032771  \n",
       "toilets     0.453729  0.448640  0.218621  \n",
       "garage      1.000000  0.271774  0.156053  \n",
       "elevator    0.271774  1.000000  0.211845  \n",
       "tras        0.156053  0.211845  1.000000  "
      ]
     },
     "execution_count": 35,
     "metadata": {},
     "output_type": "execute_result"
    }
   ],
   "source": [
    "df.corr()"
   ]
  },
  {
   "cell_type": "code",
   "execution_count": 116,
   "metadata": {},
   "outputs": [
    {
     "data": {
      "text/plain": [
       "<matplotlib.figure.Figure at 0x121a9ce5080>"
      ]
     },
     "metadata": {},
     "output_type": "display_data"
    },
    {
     "data": {
      "image/png": "[encoded data removed]",
      "text/plain": [
       "<matplotlib.figure.Figure at 0x121a9ce5630>"
      ]
     },
     "metadata": {},
     "output_type": "display_data"
    }
   ],
   "source": [
    "plt.figure(figsize=(5,5))\n",
    "#create correlation\n",
    "corr = df.corr(method = 'spearman')\n",
    "\n",
    "#convert correlation to numpy array\n",
    "mask = np.array(corr)\n",
    "\n",
    "#to mask the repetitive value for each pair\n",
    "mask[np.tril_indices_from(mask)] = False\n",
    "fig, ax = plt.subplots(figsize = (15,12))\n",
    "fig.set_size_inches(20,10)\n",
    "sns.heatmap(corr, \n",
    "            mask = mask, \n",
    "            vmax = 0.9, \n",
    "            square = True, \n",
    "            annot = True)\n",
    "plt.show()"
   ]
  },
  {
   "cell_type": "markdown",
   "metadata": {},
   "source": [
    "> Berdasarkan nilai korelasi, maka dapat diketahui bahwa variabel-veriabel berikut memiliki hubungan terhadap harga Apartemen di Victoria :\n",
    "- Negatif (Luas dan Usia)\n",
    "- Positif (Lokasi Lantai, Jumlah Ruangan, Jumlah Toilet, Jumlah Garasi, Elevator [Dapat di akses atau tidak] & Tras)"
   ]
  },
  {
   "cell_type": "markdown",
   "metadata": {},
   "source": [
    "> Berdasarkan nilai korelasi maka dapat diketahu bahwa variabel jumlah toilet sangat mempengaruhi harga apartemen dnegan nilai korelasi 31%."
   ]
  },
  {
   "cell_type": "code",
   "execution_count": 38,
   "metadata": {},
   "outputs": [
    {
     "data": {
      "image/png": "[encoded data removed]",
      "text/plain": [
       "<matplotlib.figure.Figure at 0x121a9b7f630>"
      ]
     },
     "metadata": {},
     "output_type": "display_data"
    }
   ],
   "source": [
    "#Bivariate Analysis antara totalprice dan Jumlah Toilet\n",
    "sns.barplot(data=df, x=df['toilets'], y=df['totalprice'], color='blue')\n",
    "plt.show()"
   ]
  },
  {
   "cell_type": "code",
   "execution_count": 44,
   "metadata": {},
   "outputs": [
    {
     "data": {
      "image/png": "[encoded data removed]",
      "text/plain": [
       "<matplotlib.figure.Figure at 0x121a9af6a90>"
      ]
     },
     "metadata": {},
     "output_type": "display_data"
    }
   ],
   "source": [
    "#Bivariate Analysis antara totalprice dan garage\n",
    "sns.barplot(data=df, x=df['garage'], y=df['totalprice'], color='blue')\n",
    "plt.show()"
   ]
  },
  {
   "cell_type": "markdown",
   "metadata": {},
   "source": [
    "> Untuk melihat lebih jelas apakah jumlah toilet benar-benar menjadikan harga apartemen meningkat dapat dilihat berdasarkan plot di atas. Dan jika dilihat plot plot antara harga apartemen dan garage juga menunjukkan semakin banyak jumlah garasi maka semakin tinggi pula harga apartemen. Secara umum, semakin banyak fasilitas yang ada maka harga apartemen juga akan semakin tinggi (mahal)."
   ]
  },
  {
   "cell_type": "code",
   "execution_count": 45,
   "metadata": {},
   "outputs": [
    {
     "data": {
      "image/png": "[encoded data removed]",
      "text/plain": [
       "<matplotlib.figure.Figure at 0x121a98a74a8>"
      ]
     },
     "metadata": {},
     "output_type": "display_data"
    }
   ],
   "source": [
    "plt.scatter(x=df['area'],y=df['totalprice'])\n",
    "plt.title('Harga vs Area')\n",
    "plt.xlabel('Area')\n",
    "plt.ylabel('Harga')\n",
    "plt.show()"
   ]
  },
  {
   "cell_type": "code",
   "execution_count": 47,
   "metadata": {},
   "outputs": [
    {
     "data": {
      "image/png": "[encoded data removed]",
      "text/plain": [
       "<matplotlib.figure.Figure at 0x121a9c9f5f8>"
      ]
     },
     "metadata": {},
     "output_type": "display_data"
    }
   ],
   "source": [
    "plt.scatter(x=df['age'],y=df['totalprice'])\n",
    "plt.title('Harga vs Usia Apartemen')\n",
    "plt.xlabel('age')\n",
    "plt.ylabel('Harga')\n",
    "plt.show()"
   ]
  },
  {
   "cell_type": "markdown",
   "metadata": {},
   "source": [
    "> Jika dilihathubungan antara variabel numerik dengan harga apartemen, menunjukkan adanya harga yang sangat tinggi pada saat kira-kira luas apartemen sama dengan enam dan usia apartemen adalah 40 tahun. Kedua variabel menunjukkan hubungan negatif terhadap harga penjualan apartemen, sehingga menunjukkan semakin kecil ruangan ataupun usia apartemen maka harga apartemen akan semakin tinggi."
   ]
  },
  {
   "cell_type": "markdown",
   "metadata": {},
   "source": [
    "# 4.Variable Selection"
   ]
  },
  {
   "cell_type": "markdown",
   "metadata": {},
   "source": [
    "Variabel yang digunakan dalam melakukan analisis yaitu keseluruhan variabel numerik dan data conservation yang sudah di convert menjadi data numerik. Data numerik digunakan karena metode yang akan digunakan yaitu metode Regresi Linear, yang pada dasarnya variabel prediktor dan respon merupakan variabel numerik. Tidak hanya itu, hal tersebut dilakukan karena dapat diketahui bahwa korelasi harga apartemen dengan variabel lainnya tidak menunjukkan korelasi yang tinggi (korelasi tertinggi yaitu 31%) atau dapat diketahui korelasi variabel-variabel terhadap harga tidak melebihi 50%. Sehingga dalam melakukan peramalan perlu melakukan prediksi berdasarkan keseluruhan variabel yang tersedia dan sesuai dengan metode yang akan digunakan. Harapannya, semakin lengkap variabel pendukung sebagai variabel prediktor maka prediksi yang dihasilkan harapannya semakin akurat."
   ]
  },
  {
   "cell_type": "code",
   "execution_count": 48,
   "metadata": {},
   "outputs": [],
   "source": [
    "# Mengubah nilai conservation\n",
    "dicti = {\n",
    "    '2B':3,\n",
    "    '3A':3,\n",
    "    '2A':2,\n",
    "    '1A':1\n",
    "}\n",
    "df['conservation'] = df['conservation'].replace(dicti)"
   ]
  },
  {
   "cell_type": "code",
   "execution_count": 49,
   "metadata": {},
   "outputs": [],
   "source": [
    "new_df = df.copy()"
   ]
  },
  {
   "cell_type": "code",
   "execution_count": 50,
   "metadata": {},
   "outputs": [],
   "source": [
    "#Menghapus Kolol yang Tidak Menjadi Variabel Prediktor\n",
    "drop = ['zone', 'category', 'out', 'streetcategory', 'heating']\n",
    "new_df.drop(columns=drop, inplace=True)"
   ]
  },
  {
   "cell_type": "code",
   "execution_count": 51,
   "metadata": {},
   "outputs": [],
   "source": [
    "#Membuat One Hot Encoding\n",
    "new_df['conservation'] = pd.Categorical(new_df['conservation'])\n",
    "new_df = pd.get_dummies(new_df)"
   ]
  },
  {
   "cell_type": "markdown",
   "metadata": {},
   "source": [
    "# 5. Modelling (Regression) "
   ]
  },
  {
   "cell_type": "markdown",
   "metadata": {},
   "source": [
    "Pemodelan yang akan dilakukan dalam analisis yaitu dengan menggunakan regresi. "
   ]
  },
  {
   "cell_type": "code",
   "execution_count": 89,
   "metadata": {},
   "outputs": [],
   "source": [
    "# Package Regresi Linear\n",
    "from sklearn.linear_model import LinearRegression\n",
    "from sklearn.model_selection import train_test_split\n",
    "from sklearn.metrics import mean_absolute_error\n",
    "from sklearn.metrics import mean_squared_error"
   ]
  },
  {
   "cell_type": "code",
   "execution_count": 90,
   "metadata": {},
   "outputs": [],
   "source": [
    "# Memakai Linear regression\n",
    "lin_reg = LinearRegression()"
   ]
  },
  {
   "cell_type": "code",
   "execution_count": 91,
   "metadata": {},
   "outputs": [],
   "source": [
    "# Membuat variabel Prediktor (x) dan Respon (y)\n",
    "x = new_df.drop(columns = ['totalprice'])\n",
    "y = new_df['totalprice']"
   ]
  },
  {
   "cell_type": "code",
   "execution_count": 92,
   "metadata": {},
   "outputs": [],
   "source": [
    "# Split data\n",
    "x_train, x_test, y_train, y_test = train_test_split(x, y, test_size=0.2)"
   ]
  },
  {
   "cell_type": "code",
   "execution_count": 93,
   "metadata": {},
   "outputs": [
    {
     "data": {
      "text/plain": [
       "LinearRegression(copy_X=True, fit_intercept=True, n_jobs=1, normalize=False)"
      ]
     },
     "execution_count": 93,
     "metadata": {},
     "output_type": "execute_result"
    }
   ],
   "source": [
    "# Training model\n",
    "lin_reg.fit(x_train, y_train)"
   ]
  },
  {
   "cell_type": "code",
   "execution_count": 111,
   "metadata": {},
   "outputs": [],
   "source": [
    "# Melakukan Prediksi\n",
    "y_pred = lin_reg.predict(x_test)"
   ]
  },
  {
   "cell_type": "code",
   "execution_count": 114,
   "metadata": {},
   "outputs": [
    {
     "data": {
      "text/plain": [
       "array([264812.66526759, 223708.2291267 , 390966.74307055, 420062.56844252,\n",
       "       361474.52390826, 220945.07331952, 298791.18943153, 317888.8072581 ,\n",
       "       290378.08970825, 255343.59970656, 250302.84168726, 279589.75607612,\n",
       "       290827.4351958 , 234693.01567378, 180123.25382249, 314161.20835131,\n",
       "       204549.93571308, 222042.87840881, 235646.03780908, 336144.2150086 ,\n",
       "       266051.33763817, 269291.66880199, 252033.89709024, 211419.41516283,\n",
       "       179674.59872326, 182387.26291072, 292482.12998352, 243495.78640484,\n",
       "       230312.76042902, 306056.50378443, 327935.77306961, 377570.09430421,\n",
       "       353184.90932175, 280435.2408231 , 267521.7034173 , 350022.37538112,\n",
       "       225533.51105449, 341464.41194577, 226971.9965338 , 294091.12091015,\n",
       "       318183.86402364, 288320.68365064, 288298.34395982, 339185.846225  ])"
      ]
     },
     "execution_count": 114,
     "metadata": {},
     "output_type": "execute_result"
    }
   ],
   "source": [
    "y_pred"
   ]
  },
  {
   "cell_type": "code",
   "execution_count": 110,
   "metadata": {},
   "outputs": [
    {
     "data": {
      "text/html": [
       "<div>\n",
       "<style scoped>\n",
       "    .dataframe tbody tr th:only-of-type {\n",
       "        vertical-align: middle;\n",
       "    }\n",
       "\n",
       "    .dataframe tbody tr th {\n",
       "        vertical-align: top;\n",
       "    }\n",
       "\n",
       "    .dataframe thead th {\n",
       "        text-align: right;\n",
       "    }\n",
       "</style>\n",
       "<table border=\"1\" class=\"dataframe\">\n",
       "  <thead>\n",
       "    <tr style=\"text-align: right;\">\n",
       "      <th></th>\n",
       "      <th>totalprice</th>\n",
       "    </tr>\n",
       "  </thead>\n",
       "  <tbody>\n",
       "    <tr>\n",
       "      <th>264812.665268</th>\n",
       "      <td>NaN</td>\n",
       "    </tr>\n",
       "    <tr>\n",
       "      <th>223708.229127</th>\n",
       "      <td>NaN</td>\n",
       "    </tr>\n",
       "    <tr>\n",
       "      <th>390966.743071</th>\n",
       "      <td>NaN</td>\n",
       "    </tr>\n",
       "    <tr>\n",
       "      <th>420062.568443</th>\n",
       "      <td>NaN</td>\n",
       "    </tr>\n",
       "    <tr>\n",
       "      <th>361474.523908</th>\n",
       "      <td>NaN</td>\n",
       "    </tr>\n",
       "    <tr>\n",
       "      <th>220945.073320</th>\n",
       "      <td>NaN</td>\n",
       "    </tr>\n",
       "    <tr>\n",
       "      <th>298791.189432</th>\n",
       "      <td>NaN</td>\n",
       "    </tr>\n",
       "    <tr>\n",
       "      <th>317888.807258</th>\n",
       "      <td>NaN</td>\n",
       "    </tr>\n",
       "    <tr>\n",
       "      <th>290378.089708</th>\n",
       "      <td>NaN</td>\n",
       "    </tr>\n",
       "    <tr>\n",
       "      <th>255343.599707</th>\n",
       "      <td>NaN</td>\n",
       "    </tr>\n",
       "    <tr>\n",
       "      <th>250302.841687</th>\n",
       "      <td>NaN</td>\n",
       "    </tr>\n",
       "    <tr>\n",
       "      <th>279589.756076</th>\n",
       "      <td>NaN</td>\n",
       "    </tr>\n",
       "    <tr>\n",
       "      <th>290827.435196</th>\n",
       "      <td>NaN</td>\n",
       "    </tr>\n",
       "    <tr>\n",
       "      <th>234693.015674</th>\n",
       "      <td>NaN</td>\n",
       "    </tr>\n",
       "    <tr>\n",
       "      <th>180123.253822</th>\n",
       "      <td>NaN</td>\n",
       "    </tr>\n",
       "    <tr>\n",
       "      <th>314161.208351</th>\n",
       "      <td>NaN</td>\n",
       "    </tr>\n",
       "    <tr>\n",
       "      <th>204549.935713</th>\n",
       "      <td>NaN</td>\n",
       "    </tr>\n",
       "    <tr>\n",
       "      <th>222042.878409</th>\n",
       "      <td>NaN</td>\n",
       "    </tr>\n",
       "    <tr>\n",
       "      <th>235646.037809</th>\n",
       "      <td>NaN</td>\n",
       "    </tr>\n",
       "    <tr>\n",
       "      <th>336144.215009</th>\n",
       "      <td>NaN</td>\n",
       "    </tr>\n",
       "    <tr>\n",
       "      <th>266051.337638</th>\n",
       "      <td>NaN</td>\n",
       "    </tr>\n",
       "    <tr>\n",
       "      <th>269291.668802</th>\n",
       "      <td>NaN</td>\n",
       "    </tr>\n",
       "    <tr>\n",
       "      <th>252033.897090</th>\n",
       "      <td>NaN</td>\n",
       "    </tr>\n",
       "    <tr>\n",
       "      <th>211419.415163</th>\n",
       "      <td>NaN</td>\n",
       "    </tr>\n",
       "    <tr>\n",
       "      <th>179674.598723</th>\n",
       "      <td>NaN</td>\n",
       "    </tr>\n",
       "    <tr>\n",
       "      <th>182387.262911</th>\n",
       "      <td>NaN</td>\n",
       "    </tr>\n",
       "    <tr>\n",
       "      <th>292482.129984</th>\n",
       "      <td>NaN</td>\n",
       "    </tr>\n",
       "    <tr>\n",
       "      <th>243495.786405</th>\n",
       "      <td>NaN</td>\n",
       "    </tr>\n",
       "    <tr>\n",
       "      <th>230312.760429</th>\n",
       "      <td>NaN</td>\n",
       "    </tr>\n",
       "    <tr>\n",
       "      <th>306056.503784</th>\n",
       "      <td>NaN</td>\n",
       "    </tr>\n",
       "    <tr>\n",
       "      <th>327935.773070</th>\n",
       "      <td>NaN</td>\n",
       "    </tr>\n",
       "    <tr>\n",
       "      <th>377570.094304</th>\n",
       "      <td>NaN</td>\n",
       "    </tr>\n",
       "    <tr>\n",
       "      <th>353184.909322</th>\n",
       "      <td>NaN</td>\n",
       "    </tr>\n",
       "    <tr>\n",
       "      <th>280435.240823</th>\n",
       "      <td>NaN</td>\n",
       "    </tr>\n",
       "    <tr>\n",
       "      <th>267521.703417</th>\n",
       "      <td>NaN</td>\n",
       "    </tr>\n",
       "    <tr>\n",
       "      <th>350022.375381</th>\n",
       "      <td>NaN</td>\n",
       "    </tr>\n",
       "    <tr>\n",
       "      <th>225533.511054</th>\n",
       "      <td>NaN</td>\n",
       "    </tr>\n",
       "    <tr>\n",
       "      <th>341464.411946</th>\n",
       "      <td>NaN</td>\n",
       "    </tr>\n",
       "    <tr>\n",
       "      <th>226971.996534</th>\n",
       "      <td>NaN</td>\n",
       "    </tr>\n",
       "    <tr>\n",
       "      <th>294091.120910</th>\n",
       "      <td>NaN</td>\n",
       "    </tr>\n",
       "    <tr>\n",
       "      <th>318183.864024</th>\n",
       "      <td>NaN</td>\n",
       "    </tr>\n",
       "    <tr>\n",
       "      <th>288320.683651</th>\n",
       "      <td>NaN</td>\n",
       "    </tr>\n",
       "    <tr>\n",
       "      <th>288298.343960</th>\n",
       "      <td>NaN</td>\n",
       "    </tr>\n",
       "    <tr>\n",
       "      <th>339185.846225</th>\n",
       "      <td>NaN</td>\n",
       "    </tr>\n",
       "  </tbody>\n",
       "</table>\n",
       "</div>"
      ],
      "text/plain": [
       "               totalprice\n",
       "264812.665268         NaN\n",
       "223708.229127         NaN\n",
       "390966.743071         NaN\n",
       "420062.568443         NaN\n",
       "361474.523908         NaN\n",
       "220945.073320         NaN\n",
       "298791.189432         NaN\n",
       "317888.807258         NaN\n",
       "290378.089708         NaN\n",
       "255343.599707         NaN\n",
       "250302.841687         NaN\n",
       "279589.756076         NaN\n",
       "290827.435196         NaN\n",
       "234693.015674         NaN\n",
       "180123.253822         NaN\n",
       "314161.208351         NaN\n",
       "204549.935713         NaN\n",
       "222042.878409         NaN\n",
       "235646.037809         NaN\n",
       "336144.215009         NaN\n",
       "266051.337638         NaN\n",
       "269291.668802         NaN\n",
       "252033.897090         NaN\n",
       "211419.415163         NaN\n",
       "179674.598723         NaN\n",
       "182387.262911         NaN\n",
       "292482.129984         NaN\n",
       "243495.786405         NaN\n",
       "230312.760429         NaN\n",
       "306056.503784         NaN\n",
       "327935.773070         NaN\n",
       "377570.094304         NaN\n",
       "353184.909322         NaN\n",
       "280435.240823         NaN\n",
       "267521.703417         NaN\n",
       "350022.375381         NaN\n",
       "225533.511054         NaN\n",
       "341464.411946         NaN\n",
       "226971.996534         NaN\n",
       "294091.120910         NaN\n",
       "318183.864024         NaN\n",
       "288320.683651         NaN\n",
       "288298.343960         NaN\n",
       "339185.846225         NaN"
      ]
     },
     "execution_count": 110,
     "metadata": {},
     "output_type": "execute_result"
    }
   ],
   "source": [
    "# Nilai Prediksi vs Aktual\n",
    "df_test = pd.DataFrame(y_test, y_pred)\n",
    "df_test"
   ]
  },
  {
   "cell_type": "markdown",
   "metadata": {},
   "source": [
    "# 6. Accuracy of Error"
   ]
  },
  {
   "cell_type": "markdown",
   "metadata": {},
   "source": [
    "Pemodelan yang dilakukan menggunakan data traning. Setelah mendapatkan model, maka untuk mengetahui apakah model yang diperoleh sudah cukup baik dalam melakukan prediksi harga dapat dilihat berdasarkan perhitungan MAE *(Mean Absolute Error)* dan MAPE *(Mean Absolute Percentage Error)* pada data testing. Dapat diketahui, semakin kecil niali MAE maupun MAPE dapat dikethui semakin baik model yang diperoleh."
   ]
  },
  {
   "cell_type": "code",
   "execution_count": 112,
   "metadata": {},
   "outputs": [],
   "source": [
    "def mean_absolute_percentage_error(y_true, y_pred): \n",
    "    y_true, y_pred = np.array(y_true), np.array(y_pred)\n",
    "    return np.mean(np.abs((y_true - y_pred) / y_true)) * 100"
   ]
  },
  {
   "cell_type": "code",
   "execution_count": 113,
   "metadata": {},
   "outputs": [
    {
     "name": "stdout",
     "output_type": "stream",
     "text": [
      "Nilai MAE 44346.688605480704\n",
      "Nilai MAPE 18.393912598674277)\n"
     ]
    }
   ],
   "source": [
    "#check error\n",
    "print(f'Nilai MAE {mean_absolute_error(y_pred, y_test)}')\n",
    "print(f'Nilai MAPE {mean_absolute_percentage_error(y_test, y_pred)})')"
   ]
  },
  {
   "cell_type": "markdown",
   "metadata": {},
   "source": [
    "Berdasarkan hasil maka dapat diketahui nilai MAPE sebesar 13. Jika ingin mengetahui apakah model dapat dikatakan sudah cukup baik, dapat dibandingkan dengan menggunakan metode lainnya. Dan memabndingkan kedua nilai tersebut."
   ]
  }
 ],
 "metadata": {
  "kernelspec": {
   "display_name": "Python 3",
   "language": "python",
   "name": "python3"
  },
  "language_info": {
   "codemirror_mode": {
    "name": "ipython",
    "version": 3
   },
   "file_extension": ".py",
   "mimetype": "text/x-python",
   "name": "python",
   "nbconvert_exporter": "python",
   "pygments_lexer": "ipython3",
   "version": "3.6.4"
  }
 },
 "nbformat": 4,
 "nbformat_minor": 2
}
